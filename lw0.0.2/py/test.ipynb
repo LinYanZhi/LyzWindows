{
 "cells": [
  {
   "metadata": {
    "ExecuteTime": {
     "end_time": "2024-12-23T07:33:47.814979Z",
     "start_time": "2024-12-23T07:33:47.790985Z"
    }
   },
   "cell_type": "code",
   "source": [
    "from MyWindowUtils import *\n",
    "\n",
    "my_windows = get_my_windows()"
   ],
   "id": "d122ffbb6898f25a",
   "outputs": [],
   "execution_count": 20
  },
  {
   "metadata": {
    "ExecuteTime": {
     "end_time": "2024-12-23T07:33:47.971126Z",
     "start_time": "2024-12-23T07:33:47.958131Z"
    }
   },
   "cell_type": "code",
   "source": "len(my_windows)",
   "id": "8478b3e1a7f533a8",
   "outputs": [
    {
     "data": {
      "text/plain": [
       "20"
      ]
     },
     "execution_count": 21,
     "metadata": {},
     "output_type": "execute_result"
    }
   ],
   "execution_count": 21
  },
  {
   "metadata": {
    "ExecuteTime": {
     "end_time": "2024-12-23T07:33:48.143462Z",
     "start_time": "2024-12-23T07:33:48.125479Z"
    }
   },
   "cell_type": "code",
   "source": [
    "# 去除杂项\n",
    "my_windows2 = exclude_title_empty(my_windows)\n",
    "my_windows2 = exclude_title(my_windows2)\n",
    "len(my_windows2)"
   ],
   "id": "aefa030cb578a4d4",
   "outputs": [
    {
     "data": {
      "text/plain": [
       "6"
      ]
     },
     "execution_count": 22,
     "metadata": {},
     "output_type": "execute_result"
    }
   ],
   "execution_count": 22
  },
  {
   "metadata": {
    "ExecuteTime": {
     "end_time": "2024-12-23T07:33:48.516732Z",
     "start_time": "2024-12-23T07:33:48.497738Z"
    }
   },
   "cell_type": "code",
   "source": [
    "for mw in my_windows2:\n",
    "    print(mw)"
   ],
   "id": "2cb486c204967a73",
   "outputs": [
    {
     "name": "stdout",
     "output_type": "stream",
     "text": [
      "    title: home – test.ipynb\n",
      "     size: (1938, 1098)\n",
      " position: (-9, -9)\n",
      "      pid: 2516\n",
      "     hwnd: 1640224\n",
      "     exec: pycharm64.exe\n",
      "exec_path: D:\\PyCharm 2024.1\\bin\\pycharm64.exe\n",
      "is_active: True\n",
      "   is_max: True\n",
      "   is_min: False\n",
      "\n",
      "    title: 此电脑\n",
      "     size: (1313, 750)\n",
      " position: (607, 330)\n",
      "      pid: 8240\n",
      "     hwnd: 1642048\n",
      "     exec: explorer.exe\n",
      "exec_path: C:\\Windows\\explorer.exe\n",
      "is_active: False\n",
      "   is_max: False\n",
      "   is_min: False\n",
      "\n",
      "    title: 智谱清言\n",
      "     size: (1663, 938)\n",
      " position: (128, 71)\n",
      "      pid: 10456\n",
      "     hwnd: 264308\n",
      "     exec: 智谱清言.exe\n",
      "exec_path: D:\\chatglm\\智谱清言.exe\n",
      "is_active: False\n",
      "   is_max: False\n",
      "   is_min: False\n",
      "\n",
      "    title: *新文件 2 - Notepad++\n",
      "     size: (1938, 1098)\n",
      " position: (-9, -9)\n",
      "      pid: 20708\n",
      "     hwnd: 1052082\n",
      "     exec: notepad++.exe\n",
      "exec_path: D:\\Notepad++\\notepad++.exe\n",
      "is_active: False\n",
      "   is_max: True\n",
      "   is_min: False\n",
      "\n",
      "    title: C:\\Windows\\system32\\cmd.exe\n",
      "     size: (199, 34)\n",
      " position: (-32000, -32000)\n",
      "      pid: 19628\n",
      "     hwnd: 11865212\n",
      "     exec: WindowsTerminal.exe\n",
      "exec_path: C:\\Program Files\\WindowsApps\\Microsoft.WindowsTerminal_1.21.3231.0_x64__8wekyb3d8bbwe\\WindowsTerminal.exe\n",
      "is_active: False\n",
      "   is_max: False\n",
      "   is_min: True\n",
      "\n",
      "    title: default ime窗口 - 搜索 和另外 3 个页面 - 个人 - Microsoft​ Edge\n",
      "     size: (199, 34)\n",
      " position: (-32000, -32000)\n",
      "      pid: 6348\n",
      "     hwnd: 329650\n",
      "     exec: msedge.exe\n",
      "exec_path: C:\\Program Files (x86)\\Microsoft\\Edge\\Application\\msedge.exe\n",
      "is_active: False\n",
      "   is_max: False\n",
      "   is_min: True\n",
      "\n"
     ]
    }
   ],
   "execution_count": 23
  },
  {
   "metadata": {
    "ExecuteTime": {
     "end_time": "2024-12-23T07:33:49.226663Z",
     "start_time": "2024-12-23T07:33:49.213665Z"
    }
   },
   "cell_type": "code",
   "source": [
    "# 获取 此电脑\n",
    "mw = get_mw_by_exec(my_windows2, \"exp\")\n",
    "mw"
   ],
   "id": "96336db3dbaa12d7",
   "outputs": [
    {
     "data": {
      "text/plain": [
       "[.    title: 此电脑\n",
       "      size: (1313, 750)\n",
       "  position: (607, 330)\n",
       "       pid: 8240\n",
       "      hwnd: 1642048\n",
       "      exec: explorer.exe\n",
       " exec_path: C:\\Windows\\explorer.exe\n",
       " is_active: False\n",
       "    is_max: False\n",
       "    is_min: False]"
      ]
     },
     "execution_count": 24,
     "metadata": {},
     "output_type": "execute_result"
    }
   ],
   "execution_count": 24
  },
  {
   "metadata": {
    "ExecuteTime": {
     "end_time": "2024-12-23T07:34:35.129498Z",
     "start_time": "2024-12-23T07:34:35.120507Z"
    }
   },
   "cell_type": "code",
   "source": "mw[0].set_dock_opt(5)",
   "id": "2e4f01091c681c0f",
   "outputs": [],
   "execution_count": 26
  },
  {
   "metadata": {
    "ExecuteTime": {
     "end_time": "2024-12-23T07:29:53.237812Z",
     "start_time": "2024-12-23T07:29:53.218822Z"
    }
   },
   "cell_type": "code",
   "source": "mw",
   "id": "1ee31a93a0efe291",
   "outputs": [
    {
     "data": {
      "text/plain": [
       ".    title: 小说下载\n",
       "     size: (199, 34)\n",
       " position: (-32000, -32000)\n",
       "      pid: 8240\n",
       "     hwnd: 329998\n",
       "     exec: explorer.exe\n",
       "exec_path: C:\\Windows\\explorer.exe\n",
       "is_active: False\n",
       "   is_max: False\n",
       "   is_min: True"
      ]
     },
     "execution_count": 10,
     "metadata": {},
     "output_type": "execute_result"
    }
   ],
   "execution_count": 10
  },
  {
   "metadata": {},
   "cell_type": "code",
   "outputs": [],
   "execution_count": null,
   "source": "",
   "id": "5294fc55418c83b6"
  }
 ],
 "metadata": {
  "kernelspec": {
   "display_name": "Python 3",
   "language": "python",
   "name": "python3"
  },
  "language_info": {
   "codemirror_mode": {
    "name": "ipython",
    "version": 2
   },
   "file_extension": ".py",
   "mimetype": "text/x-python",
   "name": "python",
   "nbconvert_exporter": "python",
   "pygments_lexer": "ipython2",
   "version": "2.7.6"
  }
 },
 "nbformat": 4,
 "nbformat_minor": 5
}
